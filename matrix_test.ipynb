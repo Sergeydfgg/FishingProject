{
 "cells": [
  {
   "cell_type": "code",
   "execution_count": 186,
   "id": "285fd511",
   "metadata": {},
   "outputs": [],
   "source": [
    "import pandas as pd\n",
    "from random import uniform\n",
    "from collections import defaultdict\n",
    "from statistics import mean"
   ]
  },
  {
   "cell_type": "code",
   "execution_count": 187,
   "id": "3ed86da1",
   "metadata": {},
   "outputs": [],
   "source": [
    "with open('available_workers.txt', 'r', encoding='utf-8') as file_to_read:\n",
    "    data = file_to_read.read()\n",
    "    abc = [chr(i) for i in range(1072, 1072+33)]\n",
    "    clr_data = \"\".join([ltr for ltr in data.lower() if ltr in abc or ltr in [' ', ',','-']]).split(',')\n",
    "    clr_data = list(map(str.strip, clr_data))[:-1]"
   ]
  },
  {
   "cell_type": "code",
   "execution_count": 199,
   "id": "ebd23f24",
   "metadata": {},
   "outputs": [],
   "source": [
    "def calc_prob(probs: tuple[float]) -> int:\n",
    "    cur_prob = uniform(0, 1)\n",
    "    for ind, prob in enumerate(probs):\n",
    "        if (cur_prob := cur_prob - prob) < 0:\n",
    "            return ind"
   ]
  },
  {
   "cell_type": "code",
   "execution_count": 200,
   "id": "50595790",
   "metadata": {},
   "outputs": [],
   "source": [
    "def gen_data(probs: tuple[float]) -> list[int]:\n",
    "    return [calc_prob(probs) for _ in range(0, 5)]"
   ]
  },
  {
   "cell_type": "code",
   "execution_count": 260,
   "id": "e9297fcd",
   "metadata": {},
   "outputs": [],
   "source": [
    "def calc_res() -> tuple[float or list[float]]:\n",
    "    dict_to_df = {key.capitalize(): gen_data((0.7, 0.2, 0.1)) for key in clr_data}\n",
    "    df = pd.DataFrame.from_dict(dict_to_df)\n",
    "    return df.mean().mean(), [df[worker.capitalize()].mean() for worker in clr_data]"
   ]
  },
  {
   "cell_type": "code",
   "execution_count": 261,
   "id": "26ef5ea9",
   "metadata": {
    "scrolled": false
   },
   "outputs": [
    {
     "name": "stdout",
     "output_type": "stream",
     "text": [
      "0.39251063829787236 [0.36, 0.34, 0.394, 0.392, 0.4, 0.44, 0.394, 0.376, 0.374, 0.41000000000000003, 0.42, 0.392, 0.356, 0.466, 0.34600000000000003, 0.388, 0.406, 0.396, 0.356, 0.35200000000000004, 0.406, 0.422, 0.35000000000000003, 0.388, 0.422, 0.426, 0.368, 0.386, 0.422, 0.4, 0.398, 0.374, 0.34600000000000003, 0.388, 0.402, 0.394, 0.436, 0.41200000000000003, 0.402, 0.40800000000000003, 0.362, 0.382, 0.388, 0.374, 0.428, 0.418, 0.392, 0.428, 0.34400000000000003, 0.382, 0.342, 0.402, 0.418, 0.41600000000000004, 0.376, 0.414, 0.378, 0.374, 0.376, 0.446, 0.41000000000000003, 0.398, 0.364, 0.442, 0.432, 0.41000000000000003, 0.384, 0.428, 0.398, 0.332, 0.396, 0.38, 0.356, 0.36, 0.426, 0.394, 0.41000000000000003, 0.34800000000000003, 0.366, 0.322, 0.38, 0.434, 0.398, 0.35, 0.382, 0.458, 0.426, 0.434, 0.376, 0.396, 0.35000000000000003, 0.384, 0.406]\n"
     ]
    }
   ],
   "source": [
    "res = [calc_res() for _ in range(100)]\n",
    "worker_res = [mean([res[j][1][i] for j in range(100)]) for i in range(len(res[0][1]) - 1)]\n",
    "print(mean(list(map(lambda val: val[0], res))), worker_res)"
   ]
  },
  {
   "cell_type": "code",
   "execution_count": 253,
   "id": "7533b2f5",
   "metadata": {},
   "outputs": [],
   "source": [
    "danger_dict = {\n",
    "    \"Опасен\": 0,\n",
    "    \"Не опасен\": 0\n",
    "}\n",
    "for res in worker_res:\n",
    "    if 0 <= res < 0.6:\n",
    "        danger_dict[\"Не опасен\"] += 1\n",
    "    elif 0.6 <= res <= 2:\n",
    "        danger_dict[\"Опасен\"] += 1\n",
    "    else:\n",
    "        pass"
   ]
  },
  {
   "cell_type": "code",
   "execution_count": 254,
   "id": "63499451",
   "metadata": {},
   "outputs": [
    {
     "data": {
      "text/plain": [
       "{'Опасен': 0, 'Не опасен': 93}"
      ]
     },
     "execution_count": 254,
     "metadata": {},
     "output_type": "execute_result"
    }
   ],
   "source": [
    "danger_dict"
   ]
  },
  {
   "cell_type": "code",
   "execution_count": null,
   "id": "f8711ef0",
   "metadata": {},
   "outputs": [],
   "source": []
  }
 ],
 "metadata": {
  "kernelspec": {
   "display_name": "Python 3 (ipykernel)",
   "language": "python",
   "name": "python3"
  },
  "language_info": {
   "codemirror_mode": {
    "name": "ipython",
    "version": 3
   },
   "file_extension": ".py",
   "mimetype": "text/x-python",
   "name": "python",
   "nbconvert_exporter": "python",
   "pygments_lexer": "ipython3",
   "version": "3.9.6"
  }
 },
 "nbformat": 4,
 "nbformat_minor": 5
}
